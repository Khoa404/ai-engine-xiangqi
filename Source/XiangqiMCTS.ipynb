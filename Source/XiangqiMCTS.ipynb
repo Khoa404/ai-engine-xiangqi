{
 "cells": [
  {
   "cell_type": "markdown",
   "id": "c509acc0-29df-4464-97f5-5c5e41ef1362",
   "metadata": {},
   "source": [
    "<h1 align=\"center\">Game Cờ Tướng</h1>"
   ]
  },
  {
   "cell_type": "markdown",
   "id": "988ca474-a77c-428c-8685-d89f98336ff5",
   "metadata": {},
   "source": [
    "#### Hình ảnh bàn cờ \n",
    "![Hình minh họa](banco.png)"
   ]
  },
  {
   "cell_type": "markdown",
   "id": "6ff2a78c-6c27-4bb6-bd9e-0627d8705ab1",
   "metadata": {},
   "source": [
    "#### Quy định về ký hiệu các quân cờ\n",
    "\n",
    "| Quân cờ |\tTên Tiếng Anh | Kí hiệu |\n",
    "|---------|---------|---------|\n",
    "|Tốt      |  PAWN   |\t    1 + Tướng x 10|\n",
    "|Sĩ\t      |  BISHOP\t|       2 + Tướng x 10|\n",
    "|Tượng\t  |  ELEPHANT|\t    3 + Tướng x 10|\n",
    "|Mã \t  |  KNIGHT  |\t    4 + Tướng x 10|\n",
    "|Pháo\t  |  CANNON  |\t    5 + Tướng x 10|\n",
    "|Xe\t      |  ROOK    |\t    6 + Tướng x 10|\n",
    "|Tướng\t  |  KING    |      7 |\n",
    "|Trống\t  |  EMPTY   |\t    0 |\n",
    "|**Đen**  |          |      2X|  \n",
    "|**Đỏ**   |          |      1X|\n",
    "\n",
    "##### Ví dụ 1 : 23 -> 23 // 10 = 2 là quân Đen và 23 % 10 = 3 là quân Tượng\n",
    "##### Ví dụ 2 : 15 -> 15 // 10 = 1 là quân Đỏ và 15 % 10 = 5 là quân Pháo"
   ]
  },
  {
   "cell_type": "markdown",
   "id": "872b4dac-9bc4-4d80-97fe-5d44f468e487",
   "metadata": {},
   "source": [
    "# Thêm vào các thư viện "
   ]
  },
  {
   "cell_type": "code",
   "execution_count": 1,
   "id": "3d710d24-2b23-4660-899a-6977a6ebf6aa",
   "metadata": {},
   "outputs": [],
   "source": [
    "import numpy as np"
   ]
  },
  {
   "cell_type": "markdown",
   "id": "3911c702-e112-4379-97f8-9c31d44b87a8",
   "metadata": {},
   "source": [
    "# 1. Chế độ trò chơi người với người"
   ]
  },
  {
   "cell_type": "markdown",
   "id": "be9a602e-ab93-4a84-8eac-39e2ad55d0b6",
   "metadata": {},
   "source": [
    "## 1.1 Khởi tạo bàn cờ"
   ]
  },
  {
   "cell_type": "code",
   "execution_count": 162,
   "id": "ea43c9e9-7301-477d-bfb5-8ad240682216",
   "metadata": {},
   "outputs": [],
   "source": [
    "# Hàm khởi tạo trạng thái bàn cờ ban đầu, trả về ma trận trạng thái bàn cờ được khởi tạo\n",
    "def init_board():\n",
    "    board = np.array([[16,14,13,12,17,12,13,14,16],\n",
    "                      [0,0,0,0,0,0,0,0,0],\n",
    "                      [0,15,0,0,0,0,0,15,0],\n",
    "                      [11,0,11,0,11,0,11,0,11],\n",
    "                      [0,0,0,0,0,0,0,0,0],\n",
    "                      [0,0,0,0,0,0,0,0,0],\n",
    "                      [21,0,21,0,21,0,21,0,21],\n",
    "                      [0,25,0,0,0,0,0,25,0],\n",
    "                      [0,0,0,0,0,0,0,0,0],\n",
    "                      [26,24,23,22,27,22,23,24,26]])\n",
    "    return board"
   ]
  },
  {
   "cell_type": "markdown",
   "id": "cfa85b46-afe0-47ef-bb92-ec5ad4753c76",
   "metadata": {},
   "source": [
    "## 1.2 Hiển thị bàn cờ hiện tại"
   ]
  },
  {
   "cell_type": "code",
   "execution_count": 164,
   "id": "cc2c5af7-44df-4ce8-9847-58d2f748b1b3",
   "metadata": {},
   "outputs": [],
   "source": [
    "# Hàm hiển thị bàn cờ, nhận vào ma trận trạng thái bàn cờ và thực hiện in bàn cờ ra màn hình\n",
    "def display_board(board):\n",
    "    print(board)"
   ]
  },
  {
   "cell_type": "markdown",
   "id": "65dd44fe-0b54-4cef-933a-7f65c23879f1",
   "metadata": {},
   "source": [
    "## 1.3 Lấy nước đi từ người chơi"
   ]
  },
  {
   "cell_type": "code",
   "execution_count": 166,
   "id": "003f00a4-2026-4f9c-b11d-06514a5aadf3",
   "metadata": {},
   "outputs": [],
   "source": [
    "# Hàm lấy nước đi từ người chơi,     \n",
    "def get_player_move(board, side):\n",
    "    while True:\n",
    "        move_str = input(f\"[{side}] Nhập nước đi (m_from n_from m_to n_to): \")\n",
    "        try:\n",
    "            m_from, n_from, m_to, n_to = map(int, move_str.strip().split())\n",
    "            move = [m_from, n_from, m_to, n_to]\n",
    "            return move, side\n",
    "        except ValueError:\n",
    "            print(\"Lỗi: Vui lòng nhập đúng 4 số cách nhau bởi dấu cách.\")"
   ]
  },
  {
   "cell_type": "code",
   "execution_count": 168,
   "id": "bdf98dd2-be03-4dd9-95d3-e50c4788a5ae",
   "metadata": {},
   "outputs": [],
   "source": [
    "import random\n",
    "def get_machine_move(board, side):\n",
    "    while True:\n",
    "        moves = generate_legal_moves(board, side)\n",
    "        try:\n",
    "            move = random.choice(moves)\n",
    "            return move, side\n",
    "        except ValueError:\n",
    "            print(\"Lỗi: Không nhận được danh sách nước đi hợp lệ\")"
   ]
  },
  {
   "cell_type": "code",
   "execution_count": 170,
   "id": "5626f5bb-641f-49d9-99a1-0a6489531e1b",
   "metadata": {},
   "outputs": [
    {
     "name": "stdout",
     "output_type": "stream",
     "text": [
      "([9, 4, 8, 4], 2)\n"
     ]
    }
   ],
   "source": [
    "state = init_board()\n",
    "print(get_machine_move(state, 2))"
   ]
  },
  {
   "cell_type": "markdown",
   "id": "e0e1aba6-f51c-4b6a-8da6-c5b10ae4598e",
   "metadata": {},
   "source": [
    "## 1.4 Kiểm tra nước đi có hợp lệ không"
   ]
  },
  {
   "cell_type": "code",
   "execution_count": 18,
   "id": "ecef3b61-571f-4bdc-90e0-b3211b54fc3b",
   "metadata": {},
   "outputs": [],
   "source": [
    "# Hàm kiểm tra nước đi có hợp lệ hay không, trả về 0 nếu không hợp lệ\n",
    "def is_valid_move(board, move, side):\n",
    "\n",
    "    # 1. Điều kiện cơ bản\n",
    "    # Tọa độ phải nằm trong bàn cờ\n",
    "    if is_in_board(move) == 0:\n",
    "        return 0\n",
    "    \n",
    "    # Tọa độ bắt đầu phải có quân cờ\n",
    "    if has_piece_at_start(board, move) == 0:\n",
    "        return 0\n",
    "        \n",
    "    # Chỉ được di chuyển quân cờ của mình\n",
    "    if not_is_own_piece(board, move, side) == 0:\n",
    "        return 0\n",
    "    \n",
    "    # Không được ăn quân cùng phe\n",
    "    if not_eat_own_piece(board, move, side) == 0:\n",
    "        return 0\n",
    "    \n",
    "    # Nước đi phải có sự thay đổi vị trí\n",
    "    if is_move_changed_position(move) == 0:\n",
    "        return 0\n",
    "\n",
    "    # 2. Gọi hàm kiểm tra luật di chuyển tương ứng với từng loại quân cờ\n",
    "    # Kiểm tra loại quân\n",
    "    piece_type = check_piece_type_from_move(board, move, side)\n",
    "    # So sánh loại quân và kiểm tra luật di chuyển tương ứng với quân đó\n",
    "    if piece_type == 7:\n",
    "        # Tướng = 7\n",
    "        if is_valid_king_move(board, move, side) == 0:\n",
    "            return 0\n",
    "    elif piece_type == 2:\n",
    "        # Sĩ = 2\n",
    "        if is_valid_advisor_move(board, move, side) == 0:\n",
    "            return 0\n",
    "    elif piece_type == 3:\n",
    "        # Tượng = 3\n",
    "        if is_valid_elephant_move(board, move, side) == 0:\n",
    "            return 0\n",
    "    elif piece_type == 4:\n",
    "        # Mã = 4\n",
    "        if is_valid_horse_move(board, move, side) == 0:\n",
    "            return 0\n",
    "    elif piece_type == 6:\n",
    "        # Xe = 6\n",
    "        if is_valid_chariot_move(board, move, side) == 0:\n",
    "            return 0\n",
    "    elif piece_type == 5:\n",
    "        # Phao = 5\n",
    "        if is_valid_cannon_move(board, move, side) == 0:\n",
    "            return 0\n",
    "    elif piece_type == 1:\n",
    "        # Tot = 1\n",
    "        if is_valid_pawn_move(board, move, side) == 0:\n",
    "            return 0\n",
    "    else:\n",
    "        # không nhận dạng được loại quân cờ\n",
    "        print(\"không nhận dạng được loại quân cờ\")\n",
    "        \n",
    "    # 3. Kiểm tra xem sau nước đi, Tướng của mình có bị chiếu, lộ mặt hay không\n",
    "    if is_king_safe_after_move(board, move, side) == 0:\n",
    "        return 0\n",
    "    \n",
    "    return 1\n",
    "    "
   ]
  },
  {
   "cell_type": "markdown",
   "id": "c4931221-5895-4672-b545-03a96e8282b0",
   "metadata": {},
   "source": [
    "## 1.4.1 Kiểm tra điều kiện cơ bản tất cả quân cờ phải tuân thủ"
   ]
  },
  {
   "cell_type": "code",
   "execution_count": 21,
   "id": "643f6a3f-04f8-4092-9c9b-7e506a2caaf5",
   "metadata": {},
   "outputs": [],
   "source": [
    "# Hàm kiểm tra nước đi có nằm trong tọa độ bàn cờ hay không, trả về 0 nếu ngoài tọa độ\n",
    "def is_in_board(move):\n",
    "    m_from, n_from, m_to, n_to = move\n",
    "    if 0 <= m_from <= 9 and 0 <= n_from <= 8 and 0 <= m_to <= 9 and 0 <= n_to <= 8:\n",
    "        return 1\n",
    "    else:\n",
    "        return 0"
   ]
  },
  {
   "cell_type": "code",
   "execution_count": 23,
   "id": "67c7bd5d-29aa-4abf-8375-622d725085c1",
   "metadata": {},
   "outputs": [],
   "source": [
    "# Hàm kiểm tra có quân cờ tại tọa độ bắt đầu hay không, trả về 0 nếu không có quân\n",
    "def has_piece_at_start(board, move):\n",
    "    m_from, n_from, m_to, n_to = move\n",
    "    if board[m_from][n_from] == 0:\n",
    "        return 0\n",
    "    else:\n",
    "        return 1"
   ]
  },
  {
   "cell_type": "code",
   "execution_count": 25,
   "id": "476bc534-8d75-4f86-9d20-77215321e56c",
   "metadata": {},
   "outputs": [],
   "source": [
    "# Hàm kiểm tra xem có đi nhầm quân cờ của người khác hay không, trả về 0 nếu đi nhầm quân \n",
    "def not_is_own_piece(board, move, side):\n",
    "    m_from, n_from, m_to, n_to = move\n",
    "    if board[m_from][n_from] // 10 == side:\n",
    "        return 1\n",
    "    return 0\n"
   ]
  },
  {
   "cell_type": "code",
   "execution_count": 27,
   "id": "2ee9b095-a94f-4f62-9e8c-861e2dbe3846",
   "metadata": {},
   "outputs": [],
   "source": [
    "# Hàm kiểm tra xem không có ăn quân cùng phe phải không, trả về 0 nếu ăn quân cùng phe\n",
    "def not_eat_own_piece(board, move, side):\n",
    "    m_from, n_from, m_to, n_to = move\n",
    "    if board[m_to][n_to] // 10 == side:\n",
    "        return 0\n",
    "    else:\n",
    "        return 1"
   ]
  },
  {
   "cell_type": "code",
   "execution_count": 29,
   "id": "f5298487-e0de-42fa-a924-2b15f3e063ee",
   "metadata": {},
   "outputs": [],
   "source": [
    "# Hàm kiểm tra nước đi có thay đổi vị trí hay không, trả về 0 nếu không thay đổi vị trí\n",
    "def is_move_changed_position(move):\n",
    "    m_from, n_from, m_to, n_to = move\n",
    "    if m_from != m_to or n_from != n_to: # If {condition} = True nếu không có sự thay đổi vị trí cột (n) hoặc hàng (m) \n",
    "        return 1\n",
    "    else:\n",
    "        return 0\n"
   ]
  },
  {
   "cell_type": "markdown",
   "id": "8c756ce3-ed96-44e2-95bc-e4c77884dc76",
   "metadata": {},
   "source": [
    "## 1.4.2 Kiểm tra luật di chuyển của từng loại quân"
   ]
  },
  {
   "cell_type": "code",
   "execution_count": 32,
   "id": "4138c175-0f82-44a8-ade4-da8db58f6448",
   "metadata": {},
   "outputs": [],
   "source": [
    "# Hàm kiểm tra loại quân, trả về loại quân theo số, ví dụ : 7 \n",
    "def check_piece_type_from_move(board, move, side):\n",
    "    m_from, n_from, m_to, n_to = move\n",
    "    piece_type = board[m_from][n_from] % 10 \n",
    "    return piece_type"
   ]
  },
  {
   "cell_type": "markdown",
   "id": "80184489-6eaa-4cc7-b276-5a865a62ad4f",
   "metadata": {},
   "source": [
    "### Quân Tướng"
   ]
  },
  {
   "cell_type": "code",
   "execution_count": 35,
   "id": "933a32ae-3ade-41f6-8ee7-78504353f8d5",
   "metadata": {},
   "outputs": [],
   "source": [
    "# Kiểm tra luật di chuyển của quân Tướng, trả về 0 nếu đi sai luật\n",
    "def is_valid_king_move(board, move, side):\n",
    "\n",
    "    # Tướng chỉ được di chuyển trong cung cấm của bên mình\n",
    "    if is_king_in_palace(board, move, side) == 0:\n",
    "        return 0\n",
    "        \n",
    "    # Tướng chỉ được di chuyển 1 ô theo cột hoặc hàng\n",
    "    if is_one_step_straight_move(board, move, side) == 0:\n",
    "        return 0    \n",
    "    return 1\n",
    "\n"
   ]
  },
  {
   "cell_type": "code",
   "execution_count": 37,
   "id": "774f0f32-c0fc-4700-9b25-8fd62b970fe8",
   "metadata": {},
   "outputs": [],
   "source": [
    "# Kiểm tra Tướng chỉ được di chuyển trong cung cấm của bên mình, trả về 0 nếu đi sai luật\n",
    "def is_king_in_palace(board, move, side):\n",
    "    m_from, n_from, m_to, n_to = move\n",
    "    # Kiểm tra nếu là tướng bên đen side = 2\n",
    "    if board[m_from][n_from] // 10 == 2 and board[m_from][n_from] % 10 == 7:\n",
    "        if not (7 <= m_to <= 9 and 3 <= n_to <= 5):\n",
    "            return 0\n",
    "    # Kiểm tra nếu là tướng bên đỏ side = 1\n",
    "    if board[m_from][n_from] // 10 == 1 and board[m_from][n_from] % 10 == 7:\n",
    "        if not (0 <= m_to <= 2 and 3 <= n_to <= 5):\n",
    "            return 0\n",
    "    return 1"
   ]
  },
  {
   "cell_type": "code",
   "execution_count": 39,
   "id": "b2c7675b-42ee-4968-b5f2-4ba44a21ffbc",
   "metadata": {},
   "outputs": [],
   "source": [
    "# Kiểm tra Tướng chỉ được di chuyển 1 ô theo cột hoặc hàng, trả về 0 nếu đi sai luật  \n",
    "def is_one_step_straight_move(board, move, side):\n",
    "    m_from, n_from, m_to, n_to = move\n",
    "    d_row = abs(m_to - m_from)\n",
    "    d_col = abs(n_to - n_from)\n",
    "    if d_row + d_col != 1:\n",
    "        return 0\n",
    "    else:\n",
    "        return 1 \n",
    "# Có thể sử dụng hàm này cho quân tướng và quân tốt"
   ]
  },
  {
   "cell_type": "markdown",
   "id": "ed6f3f5f-b418-43d7-b9db-c0d4db148a28",
   "metadata": {},
   "source": [
    "### Quân Sĩ"
   ]
  },
  {
   "cell_type": "code",
   "execution_count": 42,
   "id": "2735ad2d-e60e-443d-9b74-efabe5c3564f",
   "metadata": {},
   "outputs": [],
   "source": [
    "# Kiểm tra luật di chuyển của quân Sĩ, trả về 0 nếu đi sai luật\n",
    "def is_valid_advisor_move(board, move, side):\n",
    "\n",
    "    # Sĩ chỉ được di chuyển trong cung cấm của bên mình\n",
    "    if is_advisor_in_palace(board, move, side) == 0:\n",
    "        return 0\n",
    "    # Sĩ chỉ được di chuyển chéo 1 ô \n",
    "    if is_one_step_diagonal_move(board, move, side) == 0:\n",
    "        return 0\n",
    "    \n",
    "    return 1"
   ]
  },
  {
   "cell_type": "code",
   "execution_count": 44,
   "id": "84802f35-356d-40c0-9db3-1f3ba5f86fb3",
   "metadata": {},
   "outputs": [],
   "source": [
    "# Kiểm tra quân Sĩ chỉ được di chuyển trong cung cấm của bên mình, trả về 0 nếu đi sai luật\n",
    "def is_advisor_in_palace(board, move, side):\n",
    "    m_from, n_from, m_to, n_to = move\n",
    "    # Kiểm tra nếu là sĩ bên đen side = 2\n",
    "    if board[m_from][n_from] // 10 == 2 and board[m_from][n_from] % 10 == 2:\n",
    "        if not (7 <= m_to <= 9 and 3 <= n_to <= 5):\n",
    "            return 0\n",
    "    # Kiểm tra nếu là sĩ bên đỏ side = 1\n",
    "    if board[m_from][n_from] // 10 == 1 and board[m_from][n_from] % 10 == 2:\n",
    "        if not (0 <= m_to <= 2 and 3 <= n_to <= 5):\n",
    "            return 0\n",
    "    return 1"
   ]
  },
  {
   "cell_type": "code",
   "execution_count": 46,
   "id": "d81e64ff-fdc5-4e6a-8d29-5a14cdc8c1d2",
   "metadata": {},
   "outputs": [],
   "source": [
    "# Kiểm tra quân Sĩ chỉ được di chuyển chéo 1 ô, trả về 0 nếu đi sai luật \n",
    "def is_one_step_diagonal_move(board, move, side):\n",
    "    m_from, n_from, m_to, n_to = move\n",
    "    d_row = abs(m_to - m_from)\n",
    "    d_col = abs(n_to - n_from)\n",
    "    if not (d_row == 1 and d_col == 1):\n",
    "        return 0\n",
    "    else: \n",
    "        return 1"
   ]
  },
  {
   "cell_type": "markdown",
   "id": "abcd2e97-61ca-4b71-b5b5-40a2b094767b",
   "metadata": {},
   "source": [
    "### Quân Tượng"
   ]
  },
  {
   "cell_type": "code",
   "execution_count": 49,
   "id": "d1a2cc0c-a741-43dc-a972-88fa9a10118f",
   "metadata": {},
   "outputs": [],
   "source": [
    "# Kiểm tra luật di chuyển của quân Tượng, trả về 0 nếu đi sai luật\n",
    "def is_valid_elephant_move(board, move, side):\n",
    "    # Tượng chỉ được di chuyển bên sân nhà mình\n",
    "    if is_elephant_move_within_own_side(board, move, side) == 0:\n",
    "        return 0\n",
    "    # Tượng chỉ được di chuyển chéo 2 ô \n",
    "    if is_elephant_move_diagonal_two_steps(board, move, side) == 0:\n",
    "        return 0\n",
    "    # Tượng chỉ di chuyển được nếu không bị chèn mắt tượng\n",
    "    if is_not_blocked_elephant_eye(board, move, side) == 0:\n",
    "        return 0\n",
    "    return 1"
   ]
  },
  {
   "cell_type": "code",
   "execution_count": 51,
   "id": "e0aeabdc-bbda-41d1-be1e-007f79826059",
   "metadata": {},
   "outputs": [],
   "source": [
    "# Tượng chỉ được di chuyển bên sân nhà mình, trả về 0 nếu đi sai luật\n",
    "def is_elephant_move_within_own_side(board, move, side):\n",
    "    m_from, n_from, m_to, n_to = move\n",
    "    if side == 2 and m_to < 5: # nếu là tượng bên đen thì chỉ được di chuyển từ hàng 5 đến hàng 9\n",
    "        return 0\n",
    "    if side == 1 and m_to > 4: # nếu là tượng bên đỏ thì chỉ được di chuyển từ hàng 0 đến hàng 4\n",
    "        return 0\n",
    "    return 1"
   ]
  },
  {
   "cell_type": "code",
   "execution_count": 53,
   "id": "f5b24edb-410d-4abc-a36d-f9f0e3c1cf12",
   "metadata": {},
   "outputs": [],
   "source": [
    "# Tượng chỉ được di chuyển chéo 2 ô, trả về 0 nếu đi sai luật \n",
    "def is_elephant_move_diagonal_two_steps(board, move, side):\n",
    "    m_from, n_from, m_to, n_to = move\n",
    "    if abs(m_from - m_to) != 2 or abs(n_from - n_to) != 2: # nếu không đi đúng 2 ô theo hàng hoặc 2 ô theo cột thì return 0\n",
    "        return 0\n",
    "    return 1"
   ]
  },
  {
   "cell_type": "code",
   "execution_count": 55,
   "id": "df3eb5a8-24af-4708-a568-99ccbf86f51d",
   "metadata": {},
   "outputs": [],
   "source": [
    "# Tượng chỉ di chuyển được nếu không bị chèn mắt tượng, trả về 0 nếu đi sai luật\n",
    "def is_not_blocked_elephant_eye(board, move, side):\n",
    "    m_from, n_from, m_to, n_to = move\n",
    "\n",
    "    # Tính tọa độ mắt Tượng (ô ở giữa đường chéo)\n",
    "    eye_row = (m_from + m_to) // 2\n",
    "    eye_col = (n_from + n_to) // 2\n",
    "\n",
    "    # Nếu có quân cờ chắn mắt Tượng → sai luật\n",
    "    if board[eye_row][eye_col] != 0:\n",
    "        return 0\n",
    "    return 1"
   ]
  },
  {
   "cell_type": "markdown",
   "id": "3d94f0f0-5c9e-4d25-9768-b55cf02639f0",
   "metadata": {},
   "source": [
    "### Quân Mã"
   ]
  },
  {
   "cell_type": "code",
   "execution_count": 58,
   "id": "0ae75315-b642-418b-8174-9efc0309a23a",
   "metadata": {},
   "outputs": [],
   "source": [
    "# Kiểm tra luật di chuyển của quân Mã, trả về 0 nếu đi sai luật\n",
    "def is_valid_horse_move(board, move, side):\n",
    "    # Mã di chuyển thẳng 1 ô và sau đó di chuyển chéo 1 ô\n",
    "    if is_horse_move_l_shape(board, move, side) == 0:\n",
    "        return 0\n",
    "    # Mã không di chuyển được nếu bị chèn chân ở bước di chuyển đầu tiên\n",
    "    if is_not_blocked_horse_leg(board, move, side) == 0:\n",
    "        return 0\n",
    "    return 1"
   ]
  },
  {
   "cell_type": "code",
   "execution_count": 60,
   "id": "69b5ae24-1f07-42ab-a2d3-c269fab9e577",
   "metadata": {},
   "outputs": [],
   "source": [
    "# Mã di chuyển thẳng 1 ô và sau đó di chuyển chéo 1 ô, trả về 0 nếu đi sai luật\n",
    "def is_horse_move_l_shape(board, move, side):\n",
    "    m_from, n_from, m_to, n_to = move\n",
    "    diff_m = m_to - m_from\n",
    "    diff_n = n_to - n_from\n",
    "\n",
    "    # Tất cả nước đi hợp lệ của Mã là đi theo hình chữ L: 1 bước thẳng, 1 bước chéo\n",
    "    possible_moves = [(2, 1), (2, -1), (-2, 1), (-2, -1),(1, 2), (-1, 2), (1, -2), (-1, -2)]\n",
    "\n",
    "    if (diff_m, diff_n) not in possible_moves:\n",
    "        return 0  # Không phải nước đi hình chữ L\n",
    "    return 1"
   ]
  },
  {
   "cell_type": "code",
   "execution_count": 62,
   "id": "0b5c6cf4-5000-44b0-a26e-49d640f65a51",
   "metadata": {},
   "outputs": [],
   "source": [
    "# Mã không di chuyển được nếu bị chèn chân ở bước di chuyển đầu tiên, trả về 0 nếu đi sai luật\n",
    "def is_not_blocked_horse_leg(board, move, side):\n",
    "    m_from, n_from, m_to, n_to = move\n",
    "    diff_m = m_to - m_from\n",
    "    diff_n = n_to - n_from\n",
    "\n",
    "    # Xác định ô \"chân mã\" cần kiểm tra\n",
    "    if abs(diff_m) == 2 and abs(diff_n) == 1:\n",
    "        block_m = m_from + diff_m // 2\n",
    "        block_n = n_from\n",
    "    elif abs(diff_m) == 1 and abs(diff_n) == 2:\n",
    "        block_m = m_from\n",
    "        block_n = n_from + diff_n // 2\n",
    "    else:\n",
    "        return 0  # Không hợp lệ (tránh lỗi chia sai)\n",
    "        \n",
    "    # Nếu ô chặn chân không trống (khác 0) → bị chặn\n",
    "    if board[block_m][block_n] != 0:\n",
    "        return 0  # Bị chặn chân\n",
    "    return 1"
   ]
  },
  {
   "cell_type": "markdown",
   "id": "c9641a0b-ce15-4af0-a2e1-5bf17505b380",
   "metadata": {},
   "source": [
    "### Quân Xe"
   ]
  },
  {
   "cell_type": "code",
   "execution_count": 65,
   "id": "f18ca528-ea35-47b5-bd22-849719e88e46",
   "metadata": {},
   "outputs": [],
   "source": [
    "# Kiểm tra luật di chuyển của quân Xe, trả về 0 nếu đi sai luật\n",
    "def is_valid_chariot_move(board, move, side):\n",
    "    # Xe di chuyển ngang hoặc dọc \n",
    "    if is_straight_line_move(board, move, side) == 0:\n",
    "        return 0\n",
    "    # Xe không đi được nếu có quân chắn ngang đường\n",
    "    if is_straight_path_blocked(board, move, side) == 0:\n",
    "        return 0\n",
    "    return 1"
   ]
  },
  {
   "cell_type": "code",
   "execution_count": 67,
   "id": "daa48c1d-2841-4a52-b1ab-c18cf9475262",
   "metadata": {},
   "outputs": [],
   "source": [
    "# Hàm kiểm tra xe có di chuyển ngang hoặc dọc không, trả về 0 nếu đi sai luật\n",
    "def is_straight_line_move(board, move, side):\n",
    "    m_from, n_from, m_to, n_to = move\n",
    "    if not (m_from == m_to or n_from == n_to):\n",
    "        return 0  # Không phải đường thẳng\n",
    "    return 1"
   ]
  },
  {
   "cell_type": "code",
   "execution_count": 69,
   "id": "34c81b64-960f-472b-922c-80ee66c689c3",
   "metadata": {},
   "outputs": [],
   "source": [
    "# Hàm kiểm tra xe có bị chắn đường hay không, trả về 0 nếu đi sai luật\n",
    "def is_straight_path_blocked(board, move, side):\n",
    "    m_from, n_from, m_to, n_to = move\n",
    "    if m_from == m_to:\n",
    "        # Đi ngang (theo hàng)\n",
    "        step = 1 if n_to > n_from else -1\n",
    "        for n in range(n_from + step, n_to, step):\n",
    "            if board[m_from][n] != 0:\n",
    "                return 0  # Bị chặn ngang\n",
    "    elif n_from == n_to:\n",
    "        # Đi dọc (theo cột)\n",
    "        step = 1 if m_to > m_from else -1\n",
    "        for m in range(m_from + step, m_to, step):\n",
    "            if board[m][n_from] != 0:\n",
    "                return 0  # Bị chặn dọc\n",
    "    return 1"
   ]
  },
  {
   "cell_type": "markdown",
   "id": "4586f8a6-84a3-4956-88e1-2dad0dd03017",
   "metadata": {},
   "source": [
    "### Quân Pháo"
   ]
  },
  {
   "cell_type": "code",
   "execution_count": 72,
   "id": "ca9a485f-7ae6-4feb-8576-2c66a8e61c51",
   "metadata": {},
   "outputs": [],
   "source": [
    "# Kiểm tra luật di chuyển của quân Pháo, trả về 0 nếu đi sai luật\n",
    "def is_valid_cannon_move(board, move, side):\n",
    "    # Đi ngang hoặc dọc \n",
    "    if is_straight_line_move(board, move, side) == 0: # sử dụng lại hàm từ quân xe\n",
    "        return 0\n",
    "    # Nhảy qua đúng 1 quân để ăn, Không đi được nếu có quân chắn ngang đường mà không ăn quân\n",
    "    if is_cannon_capture_valid(board, move, side) == 0:\n",
    "        return 0\n",
    "    \n",
    "    return 1"
   ]
  },
  {
   "cell_type": "code",
   "execution_count": 74,
   "id": "8fe952d5-197c-401e-87c1-aef24829045d",
   "metadata": {},
   "outputs": [],
   "source": [
    "# Hàm kiểm tra pháo nhảy qua đúng 1 quân để ăn, Không đi được nếu có quân chắn ngang đường mà không ăn quân, trả về 0 nếu đi sai luật\n",
    "def is_cannon_capture_valid(board, move, side):\n",
    "    m_from, n_from, m_to, n_to = move\n",
    "    # Đếm số quân nằm giữa ô đi và ô đến\n",
    "    count = 0\n",
    "    if m_from == m_to:\n",
    "        # Di chuyển theo hàng ngang\n",
    "        step = 1 if n_to > n_from else -1\n",
    "        for n in range(n_from + step, n_to, step):\n",
    "            if board[m_from][n] != 0:\n",
    "                count += 1\n",
    "    else:\n",
    "        # Di chuyển theo cột dọc\n",
    "        step = 1 if m_to > m_from else -1\n",
    "        for m in range(m_from + step, m_to, step):\n",
    "            if board[m][n_from] != 0:\n",
    "                count += 1\n",
    "    # Kiểm tra pháo có nhảy qua đúng 1 quân để bắt quân không\n",
    "    if board[m_to][n_to] != 0 and count != 1:\n",
    "        return 0\n",
    "    # Kiểm tra chắn đường nếu không ăn quân\n",
    "    if board[m_to][n_to] == 0 and count != 0:\n",
    "        return 0\n",
    "    \n",
    "    return 1"
   ]
  },
  {
   "cell_type": "markdown",
   "id": "cb2d1a95-daeb-4933-91f0-3a3b6768d82a",
   "metadata": {},
   "source": [
    "### Quân Tốt"
   ]
  },
  {
   "cell_type": "code",
   "execution_count": 77,
   "id": "06b2a14b-54b0-4d4f-9224-02cf1a789d4e",
   "metadata": {},
   "outputs": [],
   "source": [
    "# Kiểm tra luật di chuyển của quân Tốt, trả về 0 nếu đi sai luật\n",
    "def is_valid_pawn_move(board, move, side):\n",
    "    m_from, n_from, m_to, n_to = move\n",
    "    delta_m = m_to - m_from\n",
    "    delta_n = n_to - n_from\n",
    "    \n",
    "    # Không được đi lùi\n",
    "    if side == 1 and delta_m < 0:\n",
    "        return 0\n",
    "    if side == 2 and delta_m > 0:\n",
    "        return 0\n",
    "        \n",
    "    # Chỉ được di chuyển 1 ô \n",
    "    if abs(delta_m) + abs(delta_n) != 1:\n",
    "        return 0 \n",
    "    \n",
    "    # Chỉ được tiến 1 ô hoặc sang ngang 1 ô khi đã qua sông\n",
    "    if side == 2 and m_from >= 5:\n",
    "        if delta_n != 0:\n",
    "            return 0  # Chưa qua sông, không được đi ngang\n",
    "    if side == 1 and m_from <= 4:\n",
    "        if delta_n != 0:\n",
    "            return 0  # Chưa qua sông, không được đi ngang\n",
    "\n",
    "    return 1"
   ]
  },
  {
   "cell_type": "markdown",
   "id": "080f80fb-bcac-490f-a176-ab2cbf6c0462",
   "metadata": {},
   "source": [
    "## 1.4.3 Kiểm tra lộ mặt tướng"
   ]
  },
  {
   "cell_type": "code",
   "execution_count": 150,
   "id": "6dd05dea-651b-45cf-9fc4-107891c156cd",
   "metadata": {},
   "outputs": [],
   "source": [
    "# Kiểm tra xem Tướng có an toàn sau nước đi hay không, trả về 0 nếu sau nước đi tướng bị đe dọa (bị chiếu, lộ mặt)\n",
    "def is_king_safe_after_move(board, move, side):\n",
    "\n",
    "    # Kiểm tra lộ mặt tướng\n",
    "    if is_king_face_to_face(board, move, side) == 0:\n",
    "        return 0\n",
    "    return 1 "
   ]
  },
  {
   "cell_type": "code",
   "execution_count": 152,
   "id": "f4a292f8-443f-412c-9623-d31827c81c4a",
   "metadata": {},
   "outputs": [],
   "source": [
    "# Hàm kiểm tra lộ mặt tướng, trả về 0 nếu đi sai luật\n",
    "def is_king_face_to_face(board, move, side):\n",
    "    m_from, n_from, m_to, n_to = move\n",
    "\n",
    "    # Tạo bản sao của bàn cờ để giả lập nước đi\n",
    "    new_board = board.copy()\n",
    "\n",
    "    # Thực hiện nước đi\n",
    "    new_board[m_to][n_to] = new_board[m_from][n_from]\n",
    "    new_board[m_from][n_from] = 0\n",
    "\n",
    "    # Tìm vị trí tướng đỏ (17) và đen (27)\n",
    "    red_pos = None\n",
    "    black_pos = None\n",
    "    for r in range(10):\n",
    "        for c in range(9):\n",
    "            if new_board[r][c] == 17:\n",
    "                red_pos = (r, c)\n",
    "            elif new_board[r][c] == 27:\n",
    "                black_pos = (r, c)\n",
    "\n",
    "    # Nếu thiếu 1 trong 2 tướng (do bị ăn) thì không cần kiểm tra\n",
    "    if red_pos is None or black_pos is None:\n",
    "        return 1\n",
    "\n",
    "    # Hai tướng phải trên cùng một cột\n",
    "    if red_pos[1] != black_pos[1]:\n",
    "        return 1\n",
    "\n",
    "    col = red_pos[1]\n",
    "    r_start = min(red_pos[0], black_pos[0]) + 1\n",
    "    r_end = max(red_pos[0], black_pos[0])\n",
    "\n",
    "    # Kiểm tra các ô giữa hai tướng\n",
    "    for r in range(r_start, r_end):\n",
    "        if new_board[r][col] != 0:\n",
    "            return 1  # Có quân chắn → không lộ mặt\n",
    "\n",
    "    # Không có quân chắn → lộ mặt\n",
    "    return 0"
   ]
  },
  {
   "cell_type": "markdown",
   "id": "47b2b900-8383-4e45-82e2-54a62fd1ef3e",
   "metadata": {},
   "source": [
    "## 1.4.4 Kiểm tra bị chiếu sau nước đi, không được tự sát"
   ]
  },
  {
   "cell_type": "code",
   "execution_count": 148,
   "id": "4dd2da67-c01b-4513-9ee5-4a235ad27a2a",
   "metadata": {},
   "outputs": [],
   "source": [
    "import copy\n",
    "# Hàm Kiểm tra tướng có bị chiếu sau nước đi không, trả về 0 nếu đi sai luật\n",
    "def is_king_in_check_after_move(board, move, side):\n",
    "    m_from, n_from, m_to, n_to = move\n",
    "    # Bước 1: Sao chép bàn cờ\n",
    "    new_board = copy.deepcopy(board)\n",
    "    # Bước 2: Thực hiện nước đi trên bàn cờ mới\n",
    "    piece = new_board[m_from][n_from]\n",
    "    new_board[m_to][n_to] = piece\n",
    "    new_board[m_from][n_from] = 0\n",
    "    # Bước 3 : Kiểm tra tướng mình có bị tấn công không\n",
    "    if is_king_attacked(new_board, side) == 1:\n",
    "        return 0\n",
    "    return 1  "
   ]
  },
  {
   "cell_type": "markdown",
   "id": "604da20e-60c5-4048-bf27-f89a10ae560c",
   "metadata": {},
   "source": [
    "## 1.5 Thực hiện nước đi và cập nhật trạng thái bàn cờ"
   ]
  },
  {
   "cell_type": "code",
   "execution_count": 160,
   "id": "02287784-638a-4706-892d-9750d56eeeae",
   "metadata": {},
   "outputs": [],
   "source": [
    "# Hàm thực hiện nước đi và cập nhật trạng thái bàn cờ, trả về ma trận trạng thái bàn cờ sau khi đã cập nhật (board)\n",
    "def make_move(board, move):\n",
    "    m_from, n_from, m_to, n_to = move\n",
    "\n",
    "    # Lấy quân ở vị trí bắt đầu\n",
    "    piece = board[m_from][n_from]\n",
    "\n",
    "    # Di chuyển quân cờ\n",
    "    board[m_to][n_to] = piece\n",
    "    board[m_from][n_from] = 0\n",
    "    return board"
   ]
  },
  {
   "cell_type": "markdown",
   "id": "ba51d042-a8bd-43f6-9db8-d097dca841ed",
   "metadata": {},
   "source": [
    "## 1.6 Kiểm tra điều kiện kết thúc trận đấu (bị chiếu bí, hết cờ v.v.)"
   ]
  },
  {
   "cell_type": "code",
   "execution_count": 146,
   "id": "faf856de-e8c3-4d12-9aa9-6bf579852f8b",
   "metadata": {},
   "outputs": [],
   "source": [
    "# Hàm sinh nước đi hợp lệ, trả về danh sách nước đi hợp lệ cho bên side \n",
    "def generate_legal_moves(board, side):\n",
    "    moves = []\n",
    "    for i in range(10):\n",
    "        for j in range(9):\n",
    "            for m in range(10):\n",
    "                for n in range(9):\n",
    "                    move = [i,j,m,n]\n",
    "                    if is_valid_move(board, move, side):\n",
    "                            moves.append(move)                                \n",
    "    return moves"
   ]
  },
  {
   "cell_type": "code",
   "execution_count": 188,
   "id": "14887271-6802-4efc-8187-cddd1b0b8d71",
   "metadata": {},
   "outputs": [],
   "source": [
    "# Hàm kiểm tra điều kiện kết thúc trận đấu, trả về 0 nếu trận đấu chưa kết thúc, trả về 2 nếu người chơi 2 thua, trả về 1 nếu người chơi 1 thua\n",
    "def is_game_over(board, side):\n",
    "    # Bên đối phương\n",
    "    enemy = 3 - side\n",
    "    king_side = find_king(board, side)\n",
    "    king_enemy = find_king(board, enemy)\n",
    "    \n",
    "    # Bị chiếu bí\n",
    "    if is_checkmate(board, enemy) == 1:\n",
    "        return enemy\n",
    "    # Hết cờ\n",
    "    if has_legal_moves(board, enemy) == 0:\n",
    "        return enemy\n",
    "    # Tướng bị ăn mất\n",
    "    if king_side is None:\n",
    "        return side  # side đã mất tướng => thua\n",
    "    if king_enemy is None:\n",
    "        return enemy  # enemy mất tướng => thua\n",
    "    return 0"
   ]
  },
  {
   "cell_type": "code",
   "execution_count": 95,
   "id": "4bd4e048-11b9-4a54-85b2-5fff463837ad",
   "metadata": {},
   "outputs": [],
   "source": [
    "# Hàm kiểm tra có bị chiếu bí không, trả về 1 nếu bị chiếu bí, trả về 0 nếu không bị chiếu bí\n",
    "def is_checkmate(board, side):\n",
    "    # Bị chiếu bí là bị chiếu và không còn nước đi để thoát khỏi tình trạng bị chiếu\n",
    "    if is_king_attacked(board, side) == 1 and has_still_move_to_save_the_king(board, side) == 0:\n",
    "        return 1\n",
    "    return 0"
   ]
  },
  {
   "cell_type": "code",
   "execution_count": 184,
   "id": "c37c77e9-f485-48bc-8d41-f057945f43f3",
   "metadata": {},
   "outputs": [],
   "source": [
    "# Hàm kiểm tra tướng có đang bị tấn công không, trả về 1 nếu đang bị tấn công, trả về 0 nếu không bị tấn công\n",
    "def is_king_attacked(board, side):\n",
    "    # Tìm vị trí tướng bên mình\n",
    "    king_position = find_king(board, side)\n",
    "    if king_position is None:\n",
    "        #print(f\"[!] Không tìm thấy Tướng bên {side}\")\n",
    "        return 1  # Mặc định là không bị chiếu nếu không tìm thấy\n",
    "    # Liệt kê các nước đi hợp lệ của bên địch\n",
    "    enemy = 3 - side\n",
    "    moves = generate_legal_moves(board, enemy)\n",
    "    # Kiểm tra xem trong các nước đi hợp lệ bên địch có nước đi nào có thể đe dọa tướng bên mình không \n",
    "    for move in moves:\n",
    "        if move[2] == king_position[0] and move[3] == king_position[1]:\n",
    "            return 1\n",
    "    return 0"
   ]
  },
  {
   "cell_type": "code",
   "execution_count": 154,
   "id": "69795b06-b7d0-49d8-9f0d-1f17ecbc717e",
   "metadata": {},
   "outputs": [],
   "source": [
    "def find_king(board, side):\n",
    "    king_code = 17 if side == 1 else 27  # Ví dụ: 16 là tướng đỏ, 26 là tướng đen\n",
    "    for i in range(10):\n",
    "        for j in range(9):\n",
    "            if board[i][j] == king_code:\n",
    "                return [i, j]\n",
    "    return None"
   ]
  },
  {
   "cell_type": "code",
   "execution_count": 101,
   "id": "0b91347a-2e95-465c-b9bf-36fe5eb46c51",
   "metadata": {},
   "outputs": [],
   "source": [
    "# Hàm kiểm tra còn nước đi nào có thể giải cứu tướng khỏi bị chiếu không, trả về 1 nếu còn, trả về 0 nếu hết\n",
    "import copy\n",
    "def has_still_move_to_save_the_king(board, side):\n",
    "    life = 0\n",
    "    moves = generate_legal_moves(board, side)\n",
    "    for move in moves:\n",
    "        new_board = copy.deepcopy(board) # Lưu ý khi tạo board mới dùng hàm copy để không bị thay đổi board gốc\n",
    "        new_board = make_move(new_board, move)\n",
    "        if is_king_attacked(new_board, side) == 0:\n",
    "            life += 1\n",
    "    return 0 if life == 0 else 1"
   ]
  },
  {
   "cell_type": "code",
   "execution_count": 103,
   "id": "13cf7d31-9852-4a64-91b0-e169e6f21552",
   "metadata": {},
   "outputs": [],
   "source": [
    "# Hàm kiểm tra có còn nước đi hợp lệ không, trả về 1 nếu còn, trả về 0 nếu hết nước đi hợp lệ\n",
    "def has_legal_moves(board, side):\n",
    "    moves = generate_legal_moves(board, side)\n",
    "    if moves:\n",
    "        return 1\n",
    "    else:\n",
    "        return 0"
   ]
  },
  {
   "cell_type": "markdown",
   "id": "331fbc40-cb31-4581-8b08-e437211ec777",
   "metadata": {},
   "source": [
    "## 1.7 Chương trình chính cho chế độ chơi người với người"
   ]
  },
  {
   "cell_type": "code",
   "execution_count": 106,
   "id": "33128452-25c7-4be7-b788-86bd898949af",
   "metadata": {},
   "outputs": [],
   "source": [
    "def player_vs_player():\n",
    "    # Khởi tạo bàn cờ\n",
    "    board = init_board()\n",
    "    # Chọn bên đánh trước là 1\n",
    "    side = 1 # Bên đỏ side = 1, bên đen side = 2\n",
    "    # Khởi tạo cờ báo kết thúc trò chơi\n",
    "    game_over = False\n",
    "    data = []\n",
    "    # Vòng lặp game 2 người chơi cho tới khi kết thúc \n",
    "    while not game_over:\n",
    "        # 1. Hiển thị bàn cờ\n",
    "        display_board(board)\n",
    "        \n",
    "        # 2. Nhập nước đi từ người chơi\n",
    "        move,side = get_player_move(board, side)\n",
    "    \n",
    "        # 3. Kiểm tra tính hợp lệ của nước đi\n",
    "        if not (is_valid_move(board, move, side) == 1 and is_king_in_check_after_move(board, move, side) == 1):\n",
    "            print(\"Nước đi không hợp lệ. Vui lòng thử lại.\")\n",
    "            continue\n",
    "    \n",
    "        # 4. Áp dụng nước đi vào bàn cờ và cập nhật trạng thái bàn cờ\n",
    "        board = make_move(board, move)\n",
    "        data.append((move,side))\n",
    "        # 5. Kiểm tra kết thúc ván\n",
    "        if is_game_over(board,side) != 0:\n",
    "            game_over = True\n",
    "            # Xác định người chiến thắng\n",
    "            winner = 3 - (is_game_over(board,side))\n",
    "            print(f\"Người chiến thắng là : Player[{winner}]\")\n",
    "        else:\n",
    "            side = 3 - side # Đổi lượt chơi\n",
    "            \n",
    "    print(\"Trò chơi kết thúc!\")\n",
    "    return data\n",
    "    \n",
    "    "
   ]
  },
  {
   "cell_type": "code",
   "execution_count": null,
   "id": "a873b0be-1cbf-4224-b3ac-5a8e73ed12d0",
   "metadata": {},
   "outputs": [],
   "source": [
    "data = player_vs_player()\n",
    "print(data)"
   ]
  },
  {
   "cell_type": "markdown",
   "id": "ac3859fe-1696-4181-b055-a11d9fb7ca9e",
   "metadata": {},
   "source": [
    "<h1 align=\"center\">MCTS</h1>"
   ]
  },
  {
   "cell_type": "code",
   "execution_count": 194,
   "id": "3d148db2-f3b2-43e8-b180-e79efccfe392",
   "metadata": {},
   "outputs": [],
   "source": [
    "import copy\n",
    "import math\n",
    "import random\n",
    "\n",
    "class MCTSNode:\n",
    "    def __init__(self, board, side, parent=None, move=None):\n",
    "        self.board = board                  # Trạng thái bàn cờ\n",
    "        self.side = side                    # Người chơi hiện tại (1 hoặc 2)\n",
    "        self.parent = parent                # Nút cha\n",
    "        self.move = move                    # Nước đi từ cha → node này\n",
    "        self.children = []                  # Danh sách con\n",
    "        self.visits = 0                     # Số lần thăm\n",
    "        self.wins = 0                       # Số lần thắng\n",
    "        self.untried_moves = generate_legal_moves(board, side) or []\n",
    "\n",
    "    def is_terminal(self):\n",
    "        return is_game_over(self.board, self.side) != 0\n",
    "\n",
    "    def is_fully_expanded(self):\n",
    "        return len(self.untried_moves) == 0\n",
    "\n",
    "    def expand(self):\n",
    "        if not self.untried_moves:\n",
    "            return None  # Không còn nước đi để mở rộng\n",
    "        move = self.untried_moves.pop()\n",
    "        new_board = make_move(copy.deepcopy(self.board), move)\n",
    "        next_side = 2 if self.side == 1 else 1\n",
    "        child = MCTSNode(new_board, next_side, parent=self, move=move)\n",
    "        self.children.append(child)\n",
    "        return child\n",
    "\n",
    "    def best_child(self, c_param=1.4):\n",
    "        if not self.children:\n",
    "            return None\n",
    "        best_score = -float('inf')\n",
    "        best_node = None\n",
    "        for child in self.children:\n",
    "            if child.visits == 0:\n",
    "                ucb = float('inf')\n",
    "            else:\n",
    "                win_rate = child.wins / child.visits\n",
    "                ucb = win_rate + c_param * math.sqrt(math.log(self.visits + 1) / child.visits)\n",
    "            if ucb > best_score:\n",
    "                best_score = ucb\n",
    "                best_node = child\n",
    "        return best_node\n",
    "\n",
    "    def rollout(self):\n",
    "        current_board = copy.deepcopy(self.board)\n",
    "        current_side = self.side\n",
    "\n",
    "        while True:\n",
    "            result = is_game_over(current_board, current_side)\n",
    "            if result != 0:\n",
    "                return result  # Kết thúc game\n",
    "\n",
    "            moves = generate_legal_moves(current_board, current_side)\n",
    "            if not moves:\n",
    "                return 2 if current_side == 1 else 1  # Không còn nước → thua\n",
    "\n",
    "            move = random.choice(moves)\n",
    "            current_board = make_move(current_board, move)\n",
    "            current_side = 2 if current_side == 1 else 1\n",
    "\n",
    "    def backpropagate(self, result):\n",
    "        self.visits += 1\n",
    "        if (result == 1 and self.side == 2) or (result == 2 and self.side == 1):\n",
    "            self.wins += 1  # Người chơi self.side thắng\n",
    "        elif result == 0:\n",
    "            self.wins += 0.5  # Hòa\n",
    "        if self.parent:\n",
    "            self.parent.backpropagate(result)\n",
    "\n",
    "def mcts(root_board, root_side, iterations=200):\n",
    "    root = MCTSNode(root_board, root_side)\n",
    "\n",
    "    for _ in range(iterations):\n",
    "        node = root\n",
    "\n",
    "        # 1. Selection\n",
    "        while not node.is_terminal() and node.is_fully_expanded():\n",
    "            next_node = node.best_child()\n",
    "            if next_node is None:\n",
    "                break  # Không thể tiếp tục\n",
    "            node = next_node\n",
    "\n",
    "        # 2. Expansion\n",
    "        if not node.is_terminal() and not node.is_fully_expanded():\n",
    "            new_node = node.expand()\n",
    "            if new_node is not None:\n",
    "                node = new_node\n",
    "\n",
    "        # 3. Simulation (Rollout)\n",
    "        result = node.rollout()\n",
    "\n",
    "        # 4. Backpropagation\n",
    "        node.backpropagate(result)\n",
    "\n",
    "    # Chọn nước đi tốt nhất theo số lượt thăm\n",
    "    if not root.children:\n",
    "        return None  # Không có nước đi nào hợp lệ\n",
    "    best_move = max(root.children, key=lambda c: c.visits).move\n",
    "    return best_move\n"
   ]
  },
  {
   "cell_type": "code",
   "execution_count": 196,
   "id": "ce25b266-92d1-4f38-b643-a07e94f891b0",
   "metadata": {},
   "outputs": [
    {
     "name": "stdout",
     "output_type": "stream",
     "text": [
      "Best move: [3, 8, 4, 8]\n"
     ]
    }
   ],
   "source": [
    "board = init_board()\n",
    "side = 1  # hoặc 2\n",
    "best_move = mcts(board, side, iterations=10)\n",
    "print(\"Best move:\", best_move)"
   ]
  },
  {
   "cell_type": "code",
   "execution_count": null,
   "id": "5bd157b5-d790-4dbf-9ea4-bc5a3b87cf3d",
   "metadata": {},
   "outputs": [],
   "source": []
  }
 ],
 "metadata": {
  "kernelspec": {
   "display_name": "Python [conda env:base] *",
   "language": "python",
   "name": "conda-base-py"
  },
  "language_info": {
   "codemirror_mode": {
    "name": "ipython",
    "version": 3
   },
   "file_extension": ".py",
   "mimetype": "text/x-python",
   "name": "python",
   "nbconvert_exporter": "python",
   "pygments_lexer": "ipython3",
   "version": "3.12.7"
  }
 },
 "nbformat": 4,
 "nbformat_minor": 5
}
