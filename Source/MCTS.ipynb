{
 "cells": [
  {
   "cell_type": "markdown",
   "id": "4557b30e-2ea0-45fd-b4df-89ae30d707d9",
   "metadata": {},
   "source": [
    "<h1 align=\"center\">Monte Carlo Tree Search</h1>"
   ]
  },
  {
   "cell_type": "markdown",
   "id": "5072e9a9-d2f5-4406-a30e-fb3494c76e3e",
   "metadata": {},
   "source": [
    "## 1. Mô tả bài toán"
   ]
  },
  {
   "cell_type": "markdown",
   "id": "75285b1c-68ef-4e14-912d-92f01768d8e8",
   "metadata": {},
   "source": [
    "Có 4 nút: [0, 1, 2, 3].\n",
    "\n",
    "2 người chơi luân phiên chọn một nút chưa được chọn.\n",
    "\n",
    "Ai chọn được 2 nút liền nhau (như 1 và 2) thì thắng.\n",
    "\n",
    "Nếu chọn hết mà không ai thắng → hòa."
   ]
  },
  {
   "cell_type": "markdown",
   "id": "ae97156f-9276-46dd-b946-4eb111d94fa9",
   "metadata": {},
   "source": [
    "## 2. Dữ liệu trạng thái"
   ]
  },
  {
   "cell_type": "code",
   "execution_count": 34,
   "id": "6902ef79-54b9-40c4-a549-7eedd813a7a9",
   "metadata": {},
   "outputs": [],
   "source": [
    "def create_state():\n",
    "    return {\n",
    "        \"player_moves\": [set(), set()],   # danh sách các nút mà mỗi người chơi đã chọn\n",
    "        \"available_moves\": [0, 1, 2, 3],  # các nước đi còn lại\n",
    "        \"current_player\": 0               # 0 hoặc 1\n",
    "    }\n"
   ]
  },
  {
   "cell_type": "markdown",
   "id": "32890d14-0ca8-4e4c-a333-b484cd53267b",
   "metadata": {},
   "source": [
    "## 3. Hàm kiểm tra thắng thua"
   ]
  },
  {
   "cell_type": "code",
   "execution_count": 36,
   "id": "7a67dd8e-ad09-475d-bc4b-37ce1a42f2b9",
   "metadata": {},
   "outputs": [],
   "source": [
    "def check_winner(player_moves):\n",
    "    for i in range(3):\n",
    "        if i in player_moves and (i + 1) in player_moves:\n",
    "            return True\n",
    "    return False\n"
   ]
  },
  {
   "cell_type": "markdown",
   "id": "c45c7f41-ee73-46f1-956a-1b125f931276",
   "metadata": {},
   "source": [
    "## 4. Hàm mô phỏng một ván ngẫu nhiên"
   ]
  },
  {
   "cell_type": "code",
   "execution_count": 16,
   "id": "f154369b-fce2-44e3-8393-e94eae5506e3",
   "metadata": {},
   "outputs": [],
   "source": [
    "import random\n",
    "\n",
    "def simulate_random_playout(state):\n",
    "    state = {\n",
    "        \"player_moves\": [set(state[\"player_moves\"][0]), set(state[\"player_moves\"][1])],\n",
    "        \"available_moves\": state[\"available_moves\"][:],\n",
    "        \"current_player\": state[\"current_player\"]\n",
    "    }\n",
    "\n",
    "    while True:\n",
    "        if not state[\"available_moves\"]:\n",
    "            return -1  # hòa\n",
    "\n",
    "        move = random.choice(state[\"available_moves\"])\n",
    "        state[\"player_moves\"][state[\"current_player\"]].add(move)\n",
    "        state[\"available_moves\"].remove(move)\n",
    "\n",
    "        if check_winner(state[\"player_moves\"][state[\"current_player\"]]):\n",
    "            return state[\"current_player\"]\n",
    "\n",
    "        state[\"current_player\"] = 1 - state[\"current_player\"]\n"
   ]
  },
  {
   "cell_type": "markdown",
   "id": "406584d8-0b09-44c8-a19a-b91d9567f8f8",
   "metadata": {},
   "source": [
    "## 5. Thuật toán MCTS "
   ]
  },
  {
   "cell_type": "code",
   "execution_count": 18,
   "id": "ad9ca9cc-6b9d-4c4e-9762-4d77bb499ce8",
   "metadata": {},
   "outputs": [],
   "source": [
    "def mcts(state, simulations=1000):\n",
    "    move_scores = {}\n",
    "    for move in state[\"available_moves\"]:\n",
    "        wins = 0\n",
    "        plays = 0\n",
    "        for _ in range(simulations):\n",
    "            # Clone state\n",
    "            sim_state = {\n",
    "                \"player_moves\": [set(state[\"player_moves\"][0]), set(state[\"player_moves\"][1])],\n",
    "                \"available_moves\": state[\"available_moves\"][:],\n",
    "                \"current_player\": state[\"current_player\"]\n",
    "            }\n",
    "\n",
    "            # Apply the move\n",
    "            sim_state[\"player_moves\"][sim_state[\"current_player\"]].add(move)\n",
    "            sim_state[\"available_moves\"].remove(move)\n",
    "            if check_winner(sim_state[\"player_moves\"][sim_state[\"current_player\"]]):\n",
    "                winner = sim_state[\"current_player\"]\n",
    "            else:\n",
    "                sim_state[\"current_player\"] = 1 - sim_state[\"current_player\"]\n",
    "                winner = simulate_random_playout(sim_state)\n",
    "\n",
    "            plays += 1\n",
    "            if winner == state[\"current_player\"]:\n",
    "                wins += 1\n",
    "            elif winner == -1:\n",
    "                wins += 0.5  # hòa\n",
    "\n",
    "        move_scores[move] = wins / plays\n",
    "\n",
    "    # Chọn nước đi có tỷ lệ thắng cao nhất\n",
    "    return max(move_scores, key=move_scores.get)\n"
   ]
  },
  {
   "cell_type": "markdown",
   "id": "e4d7ad46-7bd3-411b-b8ee-f1ece0e2e366",
   "metadata": {},
   "source": [
    "## 6. Chương trình chính"
   ]
  },
  {
   "cell_type": "code",
   "execution_count": 20,
   "id": "1e858df2-b12f-4211-ad61-c531957c7c14",
   "metadata": {},
   "outputs": [],
   "source": [
    "def play_game():\n",
    "    state = create_state()\n",
    "\n",
    "    while True:\n",
    "        if not state[\"available_moves\"]:\n",
    "            print(\"Hòa!\")\n",
    "            return\n",
    "\n",
    "        move = mcts(state, simulations=500)\n",
    "        print(f\"Người chơi {state['current_player']} chọn nút {move}\")\n",
    "        state[\"player_moves\"][state[\"current_player\"]].add(move)\n",
    "        state[\"available_moves\"].remove(move)\n",
    "\n",
    "        if check_winner(state[\"player_moves\"][state[\"current_player\"]]):\n",
    "            print(f\"Người chơi {state['current_player']} thắng!\")\n",
    "            return\n",
    "\n",
    "        state[\"current_player\"] = 1 - state[\"current_player\"]\n"
   ]
  },
  {
   "cell_type": "markdown",
   "id": "c58e906a-1c1c-4234-9738-a20366487939",
   "metadata": {},
   "source": [
    "## 7. Chạy thử chương trình"
   ]
  },
  {
   "cell_type": "code",
   "execution_count": 40,
   "id": "a5ac248e-f74b-438e-9d85-76108685c002",
   "metadata": {},
   "outputs": [
    {
     "name": "stdout",
     "output_type": "stream",
     "text": [
      "Người chơi 0 chọn nút 2\n",
      "Người chơi 1 chọn nút 1\n",
      "Người chơi 0 chọn nút 3\n",
      "Người chơi 0 thắng!\n"
     ]
    }
   ],
   "source": [
    "play_game()"
   ]
  },
  {
   "cell_type": "code",
   "execution_count": null,
   "id": "22580279-d8dd-4fa4-a32e-83f6da347e12",
   "metadata": {},
   "outputs": [],
   "source": []
  }
 ],
 "metadata": {
  "kernelspec": {
   "display_name": "Python [conda env:base] *",
   "language": "python",
   "name": "conda-base-py"
  },
  "language_info": {
   "codemirror_mode": {
    "name": "ipython",
    "version": 3
   },
   "file_extension": ".py",
   "mimetype": "text/x-python",
   "name": "python",
   "nbconvert_exporter": "python",
   "pygments_lexer": "ipython3",
   "version": "3.12.7"
  }
 },
 "nbformat": 4,
 "nbformat_minor": 5
}
